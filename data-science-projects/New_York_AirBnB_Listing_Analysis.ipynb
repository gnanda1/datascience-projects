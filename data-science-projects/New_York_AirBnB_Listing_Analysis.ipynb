{
 "cells": [
  {
   "cell_type": "markdown",
   "id": "4b194ca3",
   "metadata": {},
   "source": [
    "## New York AirBnB Listing Analysis\n",
    "\n",
    "In this project, we will do some Exploratory Data Analysis on New York AirBNB Listings. For this project, the real world dataset has been downloaded from <a href=\"http://insideairbnb.com/get-the-data/\">Inside Airbnb Dataset</a>.\n",
    "\n",
    "The data contains information about listing id, host id, neighborgood, room_type, price etc.\n",
    "\n",
    "\n"
   ]
  },
  {
   "cell_type": "code",
   "execution_count": 1,
   "id": "eb2cdd2f",
   "metadata": {},
   "outputs": [
    {
     "name": "stderr",
     "output_type": "stream",
     "text": [
      "/Users/i832861/env/lib/python3.10/site-packages/scipy/__init__.py:146: UserWarning: A NumPy version >=1.16.5 and <1.23.0 is required for this version of SciPy (detected version 1.23.1\n",
      "  warnings.warn(f\"A NumPy version >={np_minversion} and <{np_maxversion}\"\n"
     ]
    }
   ],
   "source": [
    "# Preparing the tools.\n",
    "# Regular EDA (Exploratory Data Analysis) and plotting libraries \n",
    "import numpy as np\n",
    "import pandas as pd\n",
    "import matplotlib.pyplot as plt\n",
    "import seaborn as sns\n",
    "\n",
    "# We want our plot to appear in the notebook\n",
    "%matplotlib inline"
   ]
  },
  {
   "cell_type": "code",
   "execution_count": 2,
   "id": "0526bb8c",
   "metadata": {},
   "outputs": [
    {
     "data": {
      "text/html": [
       "<div>\n",
       "<style scoped>\n",
       "    .dataframe tbody tr th:only-of-type {\n",
       "        vertical-align: middle;\n",
       "    }\n",
       "\n",
       "    .dataframe tbody tr th {\n",
       "        vertical-align: top;\n",
       "    }\n",
       "\n",
       "    .dataframe thead th {\n",
       "        text-align: right;\n",
       "    }\n",
       "</style>\n",
       "<table border=\"1\" class=\"dataframe\">\n",
       "  <thead>\n",
       "    <tr style=\"text-align: right;\">\n",
       "      <th></th>\n",
       "      <th>id</th>\n",
       "      <th>name</th>\n",
       "      <th>host_id</th>\n",
       "      <th>host_name</th>\n",
       "      <th>neighbourhood_group</th>\n",
       "      <th>neighbourhood</th>\n",
       "      <th>latitude</th>\n",
       "      <th>longitude</th>\n",
       "      <th>room_type</th>\n",
       "      <th>price</th>\n",
       "      <th>minimum_nights</th>\n",
       "      <th>number_of_reviews</th>\n",
       "      <th>last_review</th>\n",
       "      <th>reviews_per_month</th>\n",
       "      <th>calculated_host_listings_count</th>\n",
       "      <th>availability_365</th>\n",
       "      <th>number_of_reviews_ltm</th>\n",
       "      <th>license</th>\n",
       "    </tr>\n",
       "  </thead>\n",
       "  <tbody>\n",
       "    <tr>\n",
       "      <th>0</th>\n",
       "      <td>77765</td>\n",
       "      <td>Superior @ Box House</td>\n",
       "      <td>417504</td>\n",
       "      <td>The Box House Hotel</td>\n",
       "      <td>Brooklyn</td>\n",
       "      <td>Greenpoint</td>\n",
       "      <td>40.73777</td>\n",
       "      <td>-73.95366</td>\n",
       "      <td>Hotel room</td>\n",
       "      <td>308</td>\n",
       "      <td>2</td>\n",
       "      <td>42</td>\n",
       "      <td>2022-07-18</td>\n",
       "      <td>0.30</td>\n",
       "      <td>30</td>\n",
       "      <td>217</td>\n",
       "      <td>4</td>\n",
       "      <td>NaN</td>\n",
       "    </tr>\n",
       "    <tr>\n",
       "      <th>1</th>\n",
       "      <td>2539</td>\n",
       "      <td>Clean &amp; quiet apt home by the park</td>\n",
       "      <td>2787</td>\n",
       "      <td>John</td>\n",
       "      <td>Brooklyn</td>\n",
       "      <td>Kensington</td>\n",
       "      <td>40.64529</td>\n",
       "      <td>-73.97238</td>\n",
       "      <td>Private room</td>\n",
       "      <td>299</td>\n",
       "      <td>30</td>\n",
       "      <td>9</td>\n",
       "      <td>2018-10-19</td>\n",
       "      <td>0.11</td>\n",
       "      <td>9</td>\n",
       "      <td>356</td>\n",
       "      <td>0</td>\n",
       "      <td>NaN</td>\n",
       "    </tr>\n",
       "    <tr>\n",
       "      <th>2</th>\n",
       "      <td>45910</td>\n",
       "      <td>Beautiful Queens Brownstone! - 5BR</td>\n",
       "      <td>204539</td>\n",
       "      <td>Mark</td>\n",
       "      <td>Queens</td>\n",
       "      <td>Ridgewood</td>\n",
       "      <td>40.70309</td>\n",
       "      <td>-73.89963</td>\n",
       "      <td>Entire home/apt</td>\n",
       "      <td>425</td>\n",
       "      <td>30</td>\n",
       "      <td>13</td>\n",
       "      <td>2019-11-12</td>\n",
       "      <td>0.10</td>\n",
       "      <td>6</td>\n",
       "      <td>365</td>\n",
       "      <td>0</td>\n",
       "      <td>NaN</td>\n",
       "    </tr>\n",
       "    <tr>\n",
       "      <th>3</th>\n",
       "      <td>45935</td>\n",
       "      <td>Room in Beautiful Townhouse.</td>\n",
       "      <td>204586</td>\n",
       "      <td>L</td>\n",
       "      <td>Bronx</td>\n",
       "      <td>Mott Haven</td>\n",
       "      <td>40.80635</td>\n",
       "      <td>-73.92201</td>\n",
       "      <td>Private room</td>\n",
       "      <td>60</td>\n",
       "      <td>30</td>\n",
       "      <td>0</td>\n",
       "      <td>NaN</td>\n",
       "      <td>NaN</td>\n",
       "      <td>1</td>\n",
       "      <td>83</td>\n",
       "      <td>0</td>\n",
       "      <td>NaN</td>\n",
       "    </tr>\n",
       "    <tr>\n",
       "      <th>4</th>\n",
       "      <td>45936</td>\n",
       "      <td>Couldn't Be Closer To Columbia Uni</td>\n",
       "      <td>867225</td>\n",
       "      <td>Rahul</td>\n",
       "      <td>Manhattan</td>\n",
       "      <td>Morningside Heights</td>\n",
       "      <td>40.80630</td>\n",
       "      <td>-73.95985</td>\n",
       "      <td>Private room</td>\n",
       "      <td>75</td>\n",
       "      <td>31</td>\n",
       "      <td>135</td>\n",
       "      <td>2022-07-11</td>\n",
       "      <td>0.95</td>\n",
       "      <td>1</td>\n",
       "      <td>219</td>\n",
       "      <td>4</td>\n",
       "      <td>NaN</td>\n",
       "    </tr>\n",
       "  </tbody>\n",
       "</table>\n",
       "</div>"
      ],
      "text/plain": [
       "      id                                name  host_id            host_name  \\\n",
       "0  77765                Superior @ Box House   417504  The Box House Hotel   \n",
       "1   2539  Clean & quiet apt home by the park     2787                 John   \n",
       "2  45910  Beautiful Queens Brownstone! - 5BR   204539                 Mark   \n",
       "3  45935        Room in Beautiful Townhouse.   204586                    L   \n",
       "4  45936  Couldn't Be Closer To Columbia Uni   867225                Rahul   \n",
       "\n",
       "  neighbourhood_group        neighbourhood  latitude  longitude  \\\n",
       "0            Brooklyn           Greenpoint  40.73777  -73.95366   \n",
       "1            Brooklyn           Kensington  40.64529  -73.97238   \n",
       "2              Queens            Ridgewood  40.70309  -73.89963   \n",
       "3               Bronx           Mott Haven  40.80635  -73.92201   \n",
       "4           Manhattan  Morningside Heights  40.80630  -73.95985   \n",
       "\n",
       "         room_type  price  minimum_nights  number_of_reviews last_review  \\\n",
       "0       Hotel room    308               2                 42  2022-07-18   \n",
       "1     Private room    299              30                  9  2018-10-19   \n",
       "2  Entire home/apt    425              30                 13  2019-11-12   \n",
       "3     Private room     60              30                  0         NaN   \n",
       "4     Private room     75              31                135  2022-07-11   \n",
       "\n",
       "   reviews_per_month  calculated_host_listings_count  availability_365  \\\n",
       "0               0.30                              30               217   \n",
       "1               0.11                               9               356   \n",
       "2               0.10                               6               365   \n",
       "3                NaN                               1                83   \n",
       "4               0.95                               1               219   \n",
       "\n",
       "   number_of_reviews_ltm license  \n",
       "0                      4     NaN  \n",
       "1                      0     NaN  \n",
       "2                      0     NaN  \n",
       "3                      0     NaN  \n",
       "4                      4     NaN  "
      ]
     },
     "execution_count": 2,
     "metadata": {},
     "output_type": "execute_result"
    }
   ],
   "source": [
    "# Load the data from CSV file.\n",
    "ny_listing = pd.read_csv(\"../../datascience-projects/data/NY-airbnb-listings.csv\")\n",
    "ny_listing.head()"
   ]
  },
  {
   "cell_type": "code",
   "execution_count": 3,
   "id": "1aa6c903",
   "metadata": {
    "scrolled": true
   },
   "outputs": [
    {
     "name": "stdout",
     "output_type": "stream",
     "text": [
      "<class 'pandas.core.frame.DataFrame'>\n",
      "RangeIndex: 39881 entries, 0 to 39880\n",
      "Data columns (total 18 columns):\n",
      " #   Column                          Non-Null Count  Dtype  \n",
      "---  ------                          --------------  -----  \n",
      " 0   id                              39881 non-null  int64  \n",
      " 1   name                            39868 non-null  object \n",
      " 2   host_id                         39881 non-null  int64  \n",
      " 3   host_name                       39831 non-null  object \n",
      " 4   neighbourhood_group             39881 non-null  object \n",
      " 5   neighbourhood                   39881 non-null  object \n",
      " 6   latitude                        39881 non-null  float64\n",
      " 7   longitude                       39881 non-null  float64\n",
      " 8   room_type                       39881 non-null  object \n",
      " 9   price                           39881 non-null  int64  \n",
      " 10  minimum_nights                  39881 non-null  int64  \n",
      " 11  number_of_reviews               39881 non-null  int64  \n",
      " 12  last_review                     31519 non-null  object \n",
      " 13  reviews_per_month               31519 non-null  float64\n",
      " 14  calculated_host_listings_count  39881 non-null  int64  \n",
      " 15  availability_365                39881 non-null  int64  \n",
      " 16  number_of_reviews_ltm           39881 non-null  int64  \n",
      " 17  license                         5 non-null      object \n",
      "dtypes: float64(3), int64(8), object(7)\n",
      "memory usage: 5.5+ MB\n"
     ]
    }
   ],
   "source": [
    "# check how many records are in the dataset \n",
    "# and if we have any NA\n",
    "ny_listing.info()"
   ]
  },
  {
   "cell_type": "markdown",
   "id": "611d4004",
   "metadata": {},
   "source": [
    "As we can see above, our data contains 39,868 records, 17 columns, and no null values."
   ]
  },
  {
   "cell_type": "markdown",
   "id": "3938254f",
   "metadata": {},
   "source": [
    "Generate descriptive statistics.\n",
    "\n",
    "Descriptive statistics include those that summarize the central\n",
    "tendency, dispersion and shape of a\n",
    "dataset's distribution, excluding ``NaN`` values."
   ]
  },
  {
   "cell_type": "code",
   "execution_count": 4,
   "id": "2262e52d",
   "metadata": {},
   "outputs": [
    {
     "data": {
      "text/plain": [
       "count    39881.000000\n",
       "mean       197.547228\n",
       "std        353.332542\n",
       "min          0.000000\n",
       "25%         80.000000\n",
       "50%        130.000000\n",
       "75%        219.000000\n",
       "max      16500.000000\n",
       "Name: price, dtype: float64"
      ]
     },
     "execution_count": 4,
     "metadata": {},
     "output_type": "execute_result"
    }
   ],
   "source": [
    "# Let's use describe function to see some statistics related to price column\n",
    "ny_listing[\"price\"].describe()"
   ]
  },
  {
   "cell_type": "code",
   "execution_count": 32,
   "id": "617c02e3",
   "metadata": {},
   "outputs": [
    {
     "data": {
      "text/plain": [
       "Entire home/apt    22761\n",
       "Private room       16361\n",
       "Shared room          557\n",
       "Hotel room           202\n",
       "Name: room_type, dtype: int64"
      ]
     },
     "execution_count": 32,
     "metadata": {},
     "output_type": "execute_result"
    }
   ],
   "source": [
    "ny_listing[\"room_type\"].value_counts()"
   ]
  },
  {
   "cell_type": "markdown",
   "id": "bd083448",
   "metadata": {},
   "source": [
    "By using `value_counts()` function for `ny_listing[\"room_type]` we see that\n",
    "\n",
    "1. No. of Entire home/apt **22761**\n",
    "2. No. of Private room  **16361**\n",
    "3. No. of Shared room   **557**\n",
    "4. No. of Hotel room    **202**\n"
   ]
  },
  {
   "cell_type": "code",
   "execution_count": 33,
   "id": "423e6061",
   "metadata": {},
   "outputs": [
    {
     "data": {
      "text/plain": [
       "Manhattan        16847\n",
       "Brooklyn         14845\n",
       "Queens            6175\n",
       "Bronx             1568\n",
       "Staten Island      446\n",
       "Name: neighbourhood_group, dtype: int64"
      ]
     },
     "execution_count": 33,
     "metadata": {},
     "output_type": "execute_result"
    }
   ],
   "source": [
    "ny_listing[\"neighbourhood_group\"].value_counts()"
   ]
  },
  {
   "cell_type": "markdown",
   "id": "53be83a5",
   "metadata": {},
   "source": [
    "The dataset contains 5 neighbourhood groups **Manhattan, Brooklyn, Queens, Bronx, Staten Island**"
   ]
  },
  {
   "cell_type": "code",
   "execution_count": 5,
   "id": "fc46f016",
   "metadata": {},
   "outputs": [
    {
     "data": {
      "image/png": "[encoded data removed]",
      "text/plain": [
       "<Figure size 432x288 with 1 Axes>"
      ]
     },
     "metadata": {},
     "output_type": "display_data"
    }
   ],
   "source": [
    "# Let's create first seaborn barplot\n",
    "sns.set_theme(style='darkgrid')\n",
    "sns.barplot(x=ny_listing[\"neighbourhood_group\"], y=ny_listing[\"price\"])\n",
    "plt.show()"
   ]
  },
  {
   "cell_type": "code",
   "execution_count": 26,
   "id": "e9724eca",
   "metadata": {},
   "outputs": [
    {
     "data": {
      "image/png": "[encoded data removed]",
      "text/plain": [
       "<Figure size 432x288 with 1 Axes>"
      ]
     },
     "metadata": {},
     "output_type": "display_data"
    }
   ],
   "source": [
    "sns.barplot(x=ny_listing[\"room_type\"], y=ny_listing[\"price\"], data=ny_listing)\n",
    "\n",
    "# Add title, x axis label and y axis label for more readability.\n",
    "plt.title(\"Price VS Room Type\")\n",
    "plt.xlabel(\"Room Type\")\n",
    "plt.ylabel(\"Price\")\n",
    "plt.show()"
   ]
  },
  {
   "cell_type": "code",
   "execution_count": null,
   "id": "b59097e5",
   "metadata": {},
   "outputs": [],
   "source": []
  },
  {
   "cell_type": "code",
   "execution_count": null,
   "id": "1a9e14ea",
   "metadata": {},
   "outputs": [],
   "source": [
    "plt."
   ]
  }
 ],
 "metadata": {
  "kernelspec": {
   "display_name": "Python 3 (ipykernel)",
   "language": "python",
   "name": "python3"
  },
  "language_info": {
   "codemirror_mode": {
    "name": "ipython",
    "version": 3
   },
   "file_extension": ".py",
   "mimetype": "text/x-python",
   "name": "python",
   "nbconvert_exporter": "python",
   "pygments_lexer": "ipython3",
   "version": "3.10.4"
  }
 },
 "nbformat": 4,
 "nbformat_minor": 5
}
